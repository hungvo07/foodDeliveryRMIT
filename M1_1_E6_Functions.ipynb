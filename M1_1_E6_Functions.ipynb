{
  "nbformat": 4,
  "nbformat_minor": 0,
  "metadata": {
    "colab": {
      "name": "M1.1-E6 Functions",
      "provenance": [],
      "collapsed_sections": [],
      "toc_visible": true,
      "include_colab_link": true
    },
    "kernelspec": {
      "name": "python3",
      "display_name": "Python 3"
    },
    "language_info": {
      "name": "python"
    }
  },
  "cells": [
    {
      "cell_type": "markdown",
      "metadata": {
        "id": "view-in-github",
        "colab_type": "text"
      },
      "source": [
        "<a href=\"https://colab.research.google.com/github/hungvo07/foodDeliveryRMIT/blob/main/M1_1_E6_Functions.ipynb\" target=\"_parent\"><img src=\"https://colab.research.google.com/assets/colab-badge.svg\" alt=\"Open In Colab\"/></a>"
      ]
    },
    {
      "cell_type": "markdown",
      "metadata": {
        "id": "7h_g50333Wyq"
      },
      "source": [
        "<img src=\"https://files.realpython.com/media/Defining-Your-Own-Python-Function_Watermarked.d5b07e88ece4.jpg\" />"
      ]
    },
    {
      "cell_type": "markdown",
      "metadata": {
        "id": "xLaj501x6Xah"
      },
      "source": [
        "# FUNCTIONS"
      ]
    },
    {
      "cell_type": "markdown",
      "metadata": {
        "id": "wacmvkXl2eZJ"
      },
      "source": [
        "## Q1: Max of three\n",
        "Write a Python function `max_of_three` to find and return the max of three numbers.\n",
        "\n",
        "The function takes in three integers and return one integer.\n",
        "\n",
        "*Example:*\n",
        "```python\n",
        ">>> print(max_of_three(1,2,3))\n",
        "3\n",
        ">>> print(max_of_three(10,9,8))\n",
        "10\n",
        ">>> print(max_of_three(0,0,-4))\n",
        "0\n",
        "```"
      ]
    },
    {
      "cell_type": "code",
      "metadata": {
        "id": "pIn_KjAn6RRe"
      },
      "source": [
        "# YOUR CODE HERE"
      ],
      "execution_count": null,
      "outputs": []
    },
    {
      "cell_type": "markdown",
      "metadata": {
        "id": "Xfl_8qhX2eZJ"
      },
      "source": [
        "## Q2: Add and subtract\n",
        "Write a program to create function `calculation` such that it can accept two numbers and calculate their sum and difference. The difference should be non-negative.\n",
        "\n",
        "The function should have:\n",
        "* Two arguments, with default values 20 and 10\n",
        "* Return both their sum first and difference second in a single return call.\n",
        "\n",
        "*Example:*\n",
        "```python\n",
        ">>> s,d = calculation()\n",
        ">>> print(s, d)\n",
        "30 10 # output\n",
        "\n",
        ">>> s,d = calculation(35,15)\n",
        ">>> print(s, d)\n",
        "50 20 # output\n",
        "\n",
        ">>> s,d = calculation(3,7)\n",
        ">>> print(s, d)\n",
        "10 4 # output\n",
        "```"
      ]
    },
    {
      "cell_type": "code",
      "metadata": {
        "id": "6UrJmqqTtBzl"
      },
      "source": [
        "# YOUR CODE HERE"
      ],
      "execution_count": null,
      "outputs": []
    },
    {
      "cell_type": "markdown",
      "metadata": {
        "id": "6DA0ZLdq2eZK"
      },
      "source": [
        "## Q3: Products of numbers\n",
        "Write a function `product` to multiply all of the numbers in a list together.\n",
        "\n",
        "The function should take in a list and return a number. If the input list is empty, return 0.\n",
        "\n",
        "*Example:*\n",
        "```python\n",
        ">>> L = [1,2,3,4,5]\n",
        ">>> print(product(L))\n",
        "120\n",
        "\n",
        ">>> L = [8,5,3,9,2,12,50,0,388]\n",
        ">>> print(product(L))\n",
        "0\n",
        "\n",
        ">>> L = []\n",
        ">>> print(product(L))\n",
        "0\n",
        "```"
      ]
    },
    {
      "cell_type": "code",
      "metadata": {
        "id": "BggGRI2T7Bo7"
      },
      "source": [
        "# YOUR CODE HERE"
      ],
      "execution_count": null,
      "outputs": []
    },
    {
      "cell_type": "markdown",
      "metadata": {
        "id": "ISwNKB7g2eZK"
      },
      "source": [
        "## Q4: Vowels and consonants\n",
        "Define a function `count_vowels_consonants` which counts the number of vowels and consonants in a word. The function should return both the number of vowels and number of consonants. Don't count any other characters.\n",
        "\n",
        "In English, vowels are the letters 'a', 'e', 'i', 'o', 'u', and the rest are consonants. \n",
        "\n",
        "*Example:*\n",
        "```python\n",
        ">>> s = 'CoderSchool'\n",
        ">>> v,c = count_vowels_consonants(s) # Expected function returns\n",
        ">>> print('Number of vowels:', v)\n",
        "Number of vowels: 4\n",
        ">>> print('Number of consonants:', c)\n",
        "Number of consonants: 11\n",
        "\n",
        ">>> s = 'hello world'\n",
        ">>> v,c = count_vowels_consonants(s) # Expected function returns\n",
        ">>> print('Number of vowels:', v)\n",
        "Number of vowels: 3\n",
        ">>> print('Number of consonants:', c)\n",
        "Number of consonants: 7\n",
        "\n",
        ">>> s = ''\n",
        ">>> v,c = count_vowels_consonants(s) # Expected function returns\n",
        ">>> print('Number of vowels:', v)\n",
        "Number of vowels: 0\n",
        ">>> print('Number of consonants:', c)\n",
        "Number of consonants: 0\n",
        "```"
      ]
    },
    {
      "cell_type": "code",
      "metadata": {
        "id": "jgPGab8Yypnz"
      },
      "source": [
        "# YOUR CODE HERE"
      ],
      "execution_count": null,
      "outputs": []
    },
    {
      "cell_type": "markdown",
      "metadata": {
        "id": "tfM_GkYT2eZK"
      },
      "source": [
        "## Q5: Upper and lower\n",
        "Write a Python function `count_upper_lower` that accepts a string and returns the number of upper case letters and lower case letters.\n",
        "\n",
        "(Note that space is not counted)\n",
        "\n",
        "*Example:*\n",
        "```python\n",
        ">>> s = 'Christmas is coming to Town'\n",
        ">>> u,l = count_upper_lower(s) # Expected function returns\n",
        ">>> print('Number of upper case characters:', u)\n",
        "Number of upper case characters: 2\n",
        ">>> print('Number of lower case characters:', l)\n",
        "Number of lower case characters: 21\n",
        "\n",
        ">>> s = ''\n",
        ">>> u,l = count_upper_lower(s) # Expected function returns\n",
        ">>> print('Number of upper case characters:', u)\n",
        "Number of upper case characters: 0\n",
        ">>> print('Number of lower case characters:', l)\n",
        "Number of lower case characters: 0\n",
        "```\n",
        "\n",
        "*(Hint: refer to available [string methods](https://www.w3schools.com/python/python_ref_string.asp))*"
      ]
    },
    {
      "cell_type": "code",
      "metadata": {
        "id": "6KKk3qdm7Bzi"
      },
      "source": [
        "# YOUR CODE HERE"
      ],
      "execution_count": null,
      "outputs": []
    },
    {
      "cell_type": "markdown",
      "metadata": {
        "id": "a4s6XYDW2eZK"
      },
      "source": [
        "## Q6: Prime check\n",
        "Write a function `check_prime` that takes a number as an argument and check if the number is prime or not.\n",
        "\n",
        "The function should return `True` if the number is a prime, and `False` otherwise.\n",
        "\n",
        ">Note : A prime number is a natural number greater than 1 and that has no positive divisors other than 1 and itself. For example: 2, 3, 5, 7, 11, 13, 17, 19, 23, 29,...\n",
        "\n",
        "*Example:*\n",
        "```python\n",
        ">>> print(check_prime(2))\n",
        "True\n",
        ">>> print(check_prime(7))\n",
        "True\n",
        ">>> print(check_prime(22))\n",
        "False\n",
        ">>> print(check_prime(39))\n",
        "False\n",
        "```"
      ]
    },
    {
      "cell_type": "code",
      "metadata": {
        "id": "ZapkFjd37CP8"
      },
      "source": [
        "# YOUR CODE HERE"
      ],
      "execution_count": null,
      "outputs": []
    },
    {
      "cell_type": "markdown",
      "metadata": {
        "id": "nToRRcBV2eZL"
      },
      "source": [
        "## Q7: Hyphen-separated\n",
        "Write a function `sort_hyphen` that accepts a hyphen-separated string of words as input and returns the words in a hyphen-separated string after sorting them alphabetically.\n",
        "\n",
        "*Example:*\n",
        "```python\n",
        ">>> s = 'green-red-yellow-black-white'\n",
        ">>> print(sort_hyphen(s))\n",
        "black-green-red-white-yellow\n",
        "\n",
        ">>> s = 'hi-hello-welcome-greetings'\n",
        ">>> print(sort_hyphen(s))\n",
        "greetings-hello-hi-welcome\n",
        "\n",
        ">>> s = 'green_red_yellow_black_white'\n",
        ">>> print(sort_hyphen(s))\n",
        "green_red_yellow_black_white\n",
        "```\n",
        "\n",
        "*Hint: use string  [`split()`](https://www.w3schools.com/python/ref_string_split.asp), list [`sort()`](https://www.w3schools.com/python/ref_list_sort.asp) and [`join()`](https://www.w3schools.com/python/ref_string_join.asp)*"
      ]
    },
    {
      "cell_type": "code",
      "metadata": {
        "id": "sbyPZsjm7Ccu"
      },
      "source": [
        "# YOUR CODE HERE"
      ],
      "execution_count": null,
      "outputs": []
    },
    {
      "cell_type": "markdown",
      "metadata": {
        "id": "Y0vTIFug2eZM"
      },
      "source": [
        "## Q8: Inner functions\n",
        "Create two functions, `my_sum` and`add_5`, to calculate a custom operation in this way:\n",
        "\n",
        "1. The function `my_sum` accepts two numbers, and return their sum.\n",
        "2. The function `add_5` takes two numbers, and return their sum plus 5. You must use `my_sum` inside this function.\n",
        "\n",
        "*Example:*\n",
        "```python\n",
        ">>> print(add_5(2,4))\n",
        "11\n",
        ">>> print(add_5(1,1))\n",
        "7\n",
        ">>> print(add_5(2.5,8.43))\n",
        "15.93\n",
        "```"
      ]
    },
    {
      "cell_type": "code",
      "metadata": {
        "id": "4AO1ihto7C0H"
      },
      "source": [
        "# YOUR CODE HERE"
      ],
      "execution_count": null,
      "outputs": []
    },
    {
      "cell_type": "markdown",
      "metadata": {
        "id": "l-Y9W1oPFHnE"
      },
      "source": [
        "## Q9 - INTERMEDIATE: Travel bookkeeping\n",
        "\n",
        "You've decided to go on a vacation. Let's use functions to calculate your trip's costs:\n",
        "\n",
        "1. First, given that your hotel costs $140 per night, define a function called `hotel_cost` that takes one number: the number of nights you're staying at the hotel. This function should return the total price of the whole stay.\n",
        "\n",
        "2. Second, define a function called `plane_ride_cost` that takes the name of a city we're staying in as input string. The function should return a different ticket price depending on the location. Below are the valid destinations and their corresponding round-trip prices.\n",
        "\n",
        "|City        | Price ($)|\n",
        "|:-:         |    :-:   |\n",
        "|Charlotte   |    183   |\n",
        "|Tampa       |    220   |\n",
        "|Pittsburgh  |    222   |\n",
        "|Los Angeles |    475   |\n",
        "\n",
        "3. Next, define a function called `rental_car_cost` that takes in a number: the number of days you rent a car. Calculate and return the total cost of renting a car based on these conditions: \n",
        "    - Every day you rent the car costs `$40`.\n",
        "    - If you rent the car for 7 or more days, you get `$50` off your total cost.\n",
        "    - Otherwise, if you rent the car for 3 or more days, you get `$20` off your total. You cannot get both of the above discounts.\n",
        "\n",
        "4. Finally, define a function called `trip_cost` that takes three arguments: the city name and number of days that you rent the car, and the number of nights at the hotel. This function combines everything together: \n",
        "    1. Pass the 3 arguments (city name, number of car-renting days, and the number of nights at the hotel) accordingly to the 3 functions we've created to get the separate costs.\n",
        "    2. Then, calculate and return the total sum of the separate costs calculated by the 3 functions.\n",
        "\n",
        "*Example:*\n",
        "```python\n",
        ">>> city = 'Tampa' # city name\n",
        ">>> days = 5 # number of days you rent the car for\n",
        ">>> nights = 8 # number of nights at the hotel\n",
        ">>> print(trip_cost(city, days, nights))\n",
        "1520 # Total cost for an 8-day trip to Tampa and renting a car for 5 days\n",
        "\n",
        ">>> city = 'Los Angeles' # city name\n",
        ">>> days = 12 # number of days you rent the car for\n",
        ">>> nights = 14 # number of nights at the hotel\n",
        ">>> print(trip_cost(city, days, nights))\n",
        "2865 # Total cost for an 8-day trip to Tampa and renting a car for 5 days\n",
        "```"
      ]
    },
    {
      "cell_type": "code",
      "metadata": {
        "id": "4uzWLcd1G2i0"
      },
      "source": [
        "# YOUR CODE HERE"
      ],
      "execution_count": null,
      "outputs": []
    },
    {
      "cell_type": "markdown",
      "source": [
        "##Q10: Legs count\n",
        "\n",
        "A farmer is asking you to tell him how many legs can be counted among all his animals. The farmer breeds 3 species:\n",
        "\n",
        "- A *chicken* has 2 legs\n",
        "- A *cow* has 4 legs\n",
        "- A *pig* has 4 legs\n",
        "\n",
        "Write a function that returns the total number of legs of all the animals. The function should take in a list of strings (each string is 1 of 3 animals above), and return the total number of legs there are. If the list contains animals that are not any of those 3, ignore them and count the rest.\n",
        "\n",
        "```python\n",
        ">>> list_of_animals = ['chicken', 'cow', 'pig']\n",
        ">>> print(count_legs(list_of_animals))\n",
        "10\n",
        ">>> list_of_animals = ['pig', 'cow', 'pig', 'dog', 'chicken', 'cat', 'cow']\n",
        ">>> print(count_legs(list_of_animals)) # ignore 'dog' and 'cat'\n",
        "18\n",
        "```"
      ],
      "metadata": {
        "id": "ZYsSDCCdzcwP"
      }
    },
    {
      "cell_type": "code",
      "source": [
        "# YOUR CODE HERE"
      ],
      "metadata": {
        "id": "Plc8z8ih2sNR"
      },
      "execution_count": null,
      "outputs": []
    },
    {
      "cell_type": "markdown",
      "source": [
        "## Q11: Time converter\n",
        "\n",
        "Calculate time from 24-hour format to two numbers:\n",
        "1. The total number of seconds passed since midnight.\n",
        "2. The total number of seconds until the next midnight.\n",
        "\n",
        "Your function should take in a string of time in 24-hour time format, like this: `xx:xx:xx`. For example, `10:08:30` denotes 10 hours, 8 minutes and 30 seconds after midnight.\n",
        "\n",
        "Your function should also return two integers, the first is the seconds passed midnight, and the second is the seconds until next midnight.\n",
        "\n",
        "```python\n",
        ">>> time = '10:08:30'\n",
        ">>> print(convert_time(time))\n",
        "(36510, 49890) # 36510 seconds passed midnight, 49890 seconds until next midnight\n",
        ">>> time = '23:59:59'\n",
        ">>> print(convert_time(time))\n",
        "(86399, 1)\n",
        "```"
      ],
      "metadata": {
        "id": "FJUZ5tiK2dCW"
      }
    },
    {
      "cell_type": "code",
      "source": [
        "# YOUR CODE HERE"
      ],
      "metadata": {
        "id": "Aplii5-92Ye4"
      },
      "execution_count": null,
      "outputs": []
    }
  ]
}